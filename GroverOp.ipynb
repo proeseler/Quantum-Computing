{
 "cells": [
  {
   "cell_type": "markdown",
   "source": [
    "# Import libraries"
   ],
   "metadata": {
    "collapsed": false
   }
  },
  {
   "cell_type": "code",
   "execution_count": 1,
   "metadata": {
    "collapsed": true
   },
   "outputs": [],
   "source": [
    "import numpy as np\n",
    "from qiskit import QuantumRegister\n",
    "from qiskit import QuantumCircuit, Aer, transpile\n",
    "from qiskit.circuit.library import GroverOperator"
   ]
  },
  {
   "cell_type": "markdown",
   "source": [
    "# Generate S_e"
   ],
   "metadata": {
    "collapsed": false
   }
  },
  {
   "cell_type": "code",
   "execution_count": 3,
   "outputs": [
    {
     "data": {
      "text/plain": "<Figure size 789.163x284.278 with 1 Axes>",
      "image/png": "[encoded data removed]"
     },
     "execution_count": 3,
     "metadata": {},
     "output_type": "execute_result"
    }
   ],
   "source": [
    "observation = [2]\n",
    "opSe = QuantumCircuit(3)\n",
    "# TODO: X gates encode\n",
    "for obs in observation:\n",
    "    crtls = list({0,1,2} - {obs})\n",
    "    # multi control z gate\n",
    "    opSe.h(obs)\n",
    "    opSe.mcx(crtls, obs)\n",
    "    opSe.h(obs)\n",
    "    # x gate\n",
    "    opSe.x(obs)\n",
    "    # multi control z gate\n",
    "    opSe.h(obs)\n",
    "    opSe.mcx(crtls, obs)\n",
    "    opSe.h(obs)\n",
    "    # c gate\n",
    "    opSe.x(obs)\n",
    "\n",
    "opSe.draw(output='mpl')"
   ],
   "metadata": {
    "collapsed": false,
    "pycharm": {
     "name": "#%%\n"
    }
   }
  },
  {
   "cell_type": "code",
   "execution_count": 4,
   "outputs": [
    {
     "data": {
      "text/plain": "{'000': 10000}"
     },
     "execution_count": 4,
     "metadata": {},
     "output_type": "execute_result"
    }
   ],
   "source": [
    "# Get the Aer simulator backend\n",
    "simulator_backend = Aer.get_backend('aer_simulator')\n",
    "def run_circuit(circuit, shots=10_000):\n",
    "    \"\"\"\n",
    "    Run the provided quantum circuit on the Aer simulator backend.\n",
    "\n",
    "    Parameters:\n",
    "    - circuit: The quantum circuit to be executed.\n",
    "    - shots (default=10,000): The number of times the circuit is executed.\n",
    "\n",
    "    Returns:\n",
    "    - counts: A dictionary with the counts of each quantum state result.\n",
    "    \"\"\"\n",
    "    # Transpile the circuit for the given backend\n",
    "    transpiled_circuit = transpile(circuit, simulator_backend)\n",
    "\n",
    "    # Run the transpiled circuit on the simulator\n",
    "    job = simulator_backend.run(transpiled_circuit, shots=shots)\n",
    "    result = job.result()\n",
    "\n",
    "    # Get the counts of quantum state results\n",
    "    counts = result.get_counts(transpiled_circuit)\n",
    "\n",
    "    return counts\n",
    "\n",
    "opSe.measure_all()\n",
    "run_circuit(opSe)"
   ],
   "metadata": {
    "collapsed": false,
    "pycharm": {
     "name": "#%%\n"
    }
   }
  },
  {
   "cell_type": "code",
   "execution_count": null,
   "outputs": [],
   "source": [],
   "metadata": {
    "collapsed": false,
    "pycharm": {
     "name": "#%%\n"
    }
   }
  }
 ],
 "metadata": {
  "kernelspec": {
   "display_name": "Python 3",
   "language": "python",
   "name": "python3"
  },
  "language_info": {
   "codemirror_mode": {
    "name": "ipython",
    "version": 2
   },
   "file_extension": ".py",
   "mimetype": "text/x-python",
   "name": "python",
   "nbconvert_exporter": "python",
   "pygments_lexer": "ipython2",
   "version": "2.7.6"
  }
 },
 "nbformat": 4,
 "nbformat_minor": 0
}