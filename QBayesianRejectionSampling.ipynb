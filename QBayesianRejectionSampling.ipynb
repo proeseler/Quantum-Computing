{
 "cells": [
  {
   "cell_type": "markdown",
   "source": [
    "# Import libraries"
   ],
   "metadata": {
    "collapsed": false
   }
  },
  {
   "cell_type": "code",
   "execution_count": 31,
   "metadata": {
    "collapsed": true
   },
   "outputs": [],
   "source": [
    "import numpy as np\n",
    "from qiskit import QuantumRegister\n",
    "from qiskit import QuantumCircuit, Aer, transpile\n",
    "from qiskit.circuit.library import GroverOperator"
   ]
  },
  {
   "cell_type": "markdown",
   "source": [
    "# Implement quantum circuit"
   ],
   "metadata": {
    "collapsed": false
   }
  },
  {
   "cell_type": "code",
   "execution_count": 32,
   "outputs": [
    {
     "data": {
      "text/plain": "<Figure size 2528.36x284.278 with 1 Axes>",
      "image/png": "[encoded data removed]"
     },
     "execution_count": 32,
     "metadata": {},
     "output_type": "execute_result"
    }
   ],
   "source": [
    "theta_A = 2 * np.arcsin(np.sqrt(0.25))\n",
    "theta_B_nA = 2 * np.arcsin(np.sqrt(0.6))\n",
    "theta_B_A = 2 * np.arcsin(np.sqrt(0.7))\n",
    "theta_C_nBnA = 2 * np.arcsin(np.sqrt(0.1))\n",
    "theta_C_nBA = 2 * np.arcsin(np.sqrt(0.55))\n",
    "theta_C_BnA = 2 * np.arcsin(np.sqrt(0.7))\n",
    "theta_C_BA = 2 * np.arcsin(np.sqrt(0.9))\n",
    "\n",
    "qrA = QuantumRegister(1, name='A')\n",
    "qrB = QuantumRegister(1, name='B')\n",
    "qrC = QuantumRegister(1, name='C')\n",
    "\n",
    "# Define a 3-qubit quantum circuit\n",
    "qcA = QuantumCircuit(qrA, qrB, qrC, name=\"Bayes net big\")\n",
    "\n",
    "# P(A)\n",
    "qcA.ry(theta_A, 0)\n",
    "\n",
    "# P(B|-A)\n",
    "qcA.x(0)\n",
    "qcA.cry(theta_B_nA, qrA, qrB)\n",
    "qcA.x(0)\n",
    "\n",
    "# P(B|A)\n",
    "qcA.cry(theta_B_A, qrA, qrB)\n",
    "\n",
    "# P(C|-B,-A)\n",
    "qcA.x(0)\n",
    "qcA.x(1)\n",
    "qcA.mcry(theta_C_nBnA, [qrA[0], qrB[0]], qrC[0])\n",
    "qcA.x(0)\n",
    "qcA.x(1)\n",
    "\n",
    "# P(C|-B,A)\n",
    "qcA.x(1)\n",
    "qcA.mcry(theta_C_nBA, [qrA[0], qrB[0]], qrC[0])\n",
    "qcA.x(1)\n",
    "\n",
    "# P(C|B,-A)\n",
    "qcA.x(0)\n",
    "qcA.mcry(theta_C_BnA, [qrA[0], qrB[0]], qrC[0])\n",
    "qcA.x(0)\n",
    "\n",
    "# P(C|B,A)\n",
    "qcA.mcry(theta_C_BA, [qrA[0], qrB[0]], qrC[0])\n",
    "\n",
    "\n",
    "qcA.draw('mpl', style='bw', plot_barriers=False, justify='none', fold=-1)"
   ],
   "metadata": {
    "collapsed": false,
    "pycharm": {
     "name": "#%%\n"
    }
   }
  },
  {
   "cell_type": "markdown",
   "source": [
    "# Run circuit"
   ],
   "metadata": {
    "collapsed": false
   }
  },
  {
   "cell_type": "code",
   "execution_count": 33,
   "outputs": [],
   "source": [
    "# Get the Aer simulator backend\n",
    "simulator_backend = Aer.get_backend('aer_simulator')\n",
    "def run_circuit(circuit, shots=10_000):\n",
    "    \"\"\"\n",
    "    Run the provided quantum circuit on the Aer simulator backend.\n",
    "\n",
    "    Parameters:\n",
    "    - circuit: The quantum circuit to be executed.\n",
    "    - shots (default=10,000): The number of times the circuit is executed.\n",
    "\n",
    "    Returns:\n",
    "    - counts: A dictionary with the counts of each quantum state result.\n",
    "    \"\"\"\n",
    "    # Transpile the circuit for the given backend\n",
    "    transpiled_circuit = transpile(circuit, simulator_backend)\n",
    "\n",
    "    # Run the transpiled circuit on the simulator\n",
    "    job = simulator_backend.run(transpiled_circuit, shots=shots)\n",
    "    result = job.result()\n",
    "\n",
    "    # Get the counts of quantum state results\n",
    "    counts = result.get_counts(transpiled_circuit)\n",
    "\n",
    "    return counts"
   ],
   "metadata": {
    "collapsed": false,
    "pycharm": {
     "name": "#%%\n"
    }
   }
  },
  {
   "cell_type": "markdown",
   "source": [
    "# Rejection Sampling"
   ],
   "metadata": {
    "collapsed": false
   }
  },
  {
   "cell_type": "code",
   "execution_count": 34,
   "outputs": [],
   "source": [
    "def qrejection_sampling(circ, N, query, evidence, repetitions=5):\n",
    "    \"\"\"\n",
    "    Perform rejection sampling on a quantum circuit.\n",
    "\n",
    "    Parameters:\n",
    "    - circ: The quantum circuit to be executed.\n",
    "    - N: The number of shots for each execution.\n",
    "    - evidence: The knowledge provided for the sampling.\n",
    "    - repetitions (default=5): The number of times the circuit is executed and sampled.\n",
    "    \"\"\"\n",
    "\n",
    "    for _ in range(repetitions):\n",
    "        # Get samples\n",
    "        counts = run_circuit(circ, shots=N)\n",
    "        # Count valid samples and valid samples corresponding to query\n",
    "        nval_samples = 0\n",
    "        nval_qsamples = 0\n",
    "        for c_key, c_val in counts.items():\n",
    "            # Valid samples\n",
    "            valid = True\n",
    "            for e_key, e_val in evidence.items():\n",
    "                if c_key[e_key]!=e_val:\n",
    "                    valid=False\n",
    "            if valid:\n",
    "                nval_samples+=c_val\n",
    "                # Query samples\n",
    "                qsample = True\n",
    "                for q_key, q_val in query.items():\n",
    "                    if c_key[q_key]!=q_val:\n",
    "                        qsample=False\n",
    "                if qsample:\n",
    "                    nval_qsamples+=c_val\n",
    "\n",
    "        # Compute and print the ratio\n",
    "        print(nval_qsamples/nval_samples)\n",
    "        return 0\n",
    "\n"
   ],
   "metadata": {
    "collapsed": false,
    "pycharm": {
     "name": "#%%\n"
    }
   }
  },
  {
   "cell_type": "markdown",
   "source": [
    "# Run rejection sampling"
   ],
   "metadata": {
    "collapsed": false
   }
  },
  {
   "cell_type": "code",
   "execution_count": 35,
   "outputs": [
    {
     "name": "stdout",
     "output_type": "stream",
     "text": [
      "0.3231552162849873\n",
      "0.3351324828263003\n",
      "0.3456998313659359\n",
      "0.33620159803318994\n",
      "0.3323004279179578\n",
      "0.33134954932707744\n"
     ]
    }
   ],
   "source": [
    "qcCopy = QuantumCircuit(qrA, qrB, qrC, name='Bayes net')\n",
    "qcCopy.append(qcA, [qrA, qrB, qrC])\n",
    "qcCopy.measure_all()\n",
    "\n",
    "query = {1: '1'}\n",
    "evidence = {0: '0', 2: '0'}\n",
    "shots = [1_000, 5_000, 10_000, 20_000, 50_000, 100_000]\n",
    "for N in shots:\n",
    "    qrejection_sampling(qcCopy,N=N, query=query, evidence=evidence)"
   ],
   "metadata": {
    "collapsed": false,
    "pycharm": {
     "name": "#%%\n"
    }
   }
  },
  {
   "cell_type": "markdown",
   "source": [
    "# Implement $S_e$"
   ],
   "metadata": {
    "collapsed": false
   }
  },
  {
   "cell_type": "code",
   "execution_count": 36,
   "outputs": [
    {
     "data": {
      "text/plain": "<Figure size 1458.05x284.278 with 1 Axes>",
      "image/png": "[encoded data removed]"
     },
     "execution_count": 36,
     "metadata": {},
     "output_type": "execute_result"
    }
   ],
   "source": [
    "def S_e(observation):\n",
    "    opSe = QuantumCircuit(3)\n",
    "    for obs in observation:\n",
    "        crtls = list({0,1,2} - {obs})\n",
    "        # multi control z gate\n",
    "        opSe.h(obs)\n",
    "        opSe.mcx(crtls, obs)\n",
    "        opSe.h(obs)\n",
    "        # x gate\n",
    "        opSe.x(obs)\n",
    "        # multi control z gate\n",
    "        opSe.h(obs)\n",
    "        opSe.mcx(crtls, obs)\n",
    "        opSe.h(obs)\n",
    "        # c gate\n",
    "        opSe.x(obs)\n",
    "    return opSe\n",
    "\n",
    "obs = {0,2}\n",
    "opSe = S_e(obs)\n",
    "opSe.draw('mpl', style='bw', plot_barriers=False, justify='none', fold=-1)"
   ],
   "metadata": {
    "collapsed": false,
    "pycharm": {
     "name": "#%%\n"
    }
   }
  },
  {
   "cell_type": "markdown",
   "source": [
    "# Implement Grover operator"
   ],
   "metadata": {
    "collapsed": false
   }
  },
  {
   "cell_type": "code",
   "execution_count": 37,
   "outputs": [],
   "source": [
    "opG = GroverOperator(opSe, qcA)"
   ],
   "metadata": {
    "collapsed": false,
    "pycharm": {
     "name": "#%%\n"
    }
   }
  },
  {
   "cell_type": "markdown",
   "source": [
    "# Build circuit"
   ],
   "metadata": {
    "collapsed": false
   }
  },
  {
   "cell_type": "code",
   "execution_count": 38,
   "outputs": [],
   "source": [
    "\n",
    "qcircG = QuantumCircuit(qrA, qrB, qrC, name='Grover Bayes net')\n",
    "qcircG.append(qcA, [qrA, qrB, qrC])\n",
    "qcircG.append(opG, [qrA, qrB, qrC])\n",
    "\n",
    "qcircG.measure_all()"
   ],
   "metadata": {
    "collapsed": false,
    "pycharm": {
     "name": "#%%\n"
    }
   }
  },
  {
   "cell_type": "markdown",
   "source": [
    "# Rejection Sampling"
   ],
   "metadata": {
    "collapsed": false
   }
  },
  {
   "cell_type": "code",
   "execution_count": 39,
   "outputs": [
    {
     "name": "stdout",
     "output_type": "stream",
     "text": [
      "0.3409090909090909\n",
      "0.36637931034482757\n",
      "0.317351598173516\n",
      "0.3168433451118963\n",
      "0.3361462728551336\n",
      "0.3258426966292135\n"
     ]
    }
   ],
   "source": [
    "query = {1: '1'}\n",
    "evidence = {0: '0', 2: '0'}\n",
    "shots = [1_000, 5_000, 10_000, 20_000, 50_000, 100_000]\n",
    "for N in shots:\n",
    "    qrejection_sampling(qcircG, N, query=query,evidence=evidence)"
   ],
   "metadata": {
    "collapsed": false,
    "pycharm": {
     "name": "#%%\n"
    }
   }
  },
  {
   "cell_type": "markdown",
   "source": [],
   "metadata": {
    "collapsed": false
   }
  }
 ],
 "metadata": {
  "kernelspec": {
   "display_name": "Python 3",
   "language": "python",
   "name": "python3"
  },
  "language_info": {
   "codemirror_mode": {
    "name": "ipython",
    "version": 2
   },
   "file_extension": ".py",
   "mimetype": "text/x-python",
   "name": "python",
   "nbconvert_exporter": "python",
   "pygments_lexer": "ipython2",
   "version": "2.7.6"
  }
 },
 "nbformat": 4,
 "nbformat_minor": 0
}